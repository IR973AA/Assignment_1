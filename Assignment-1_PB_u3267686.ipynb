{
 "cells": [
  {
   "cell_type": "markdown",
   "metadata": {},
   "source": [
    "# Part1: Feature Engineering \n",
    "Data Cleaning and label/feature encoding"
   ]
  },
  {
   "cell_type": "code",
   "execution_count": 1,
   "metadata": {},
   "outputs": [
    {
     "name": "stdout",
     "output_type": "stream",
     "text": [
      "The shape of the dataset:\n",
      "The shape of the cleaned dataset\n",
      "Unique values in rating_class: [2 1]\n"
     ]
    },
    {
     "name": "stderr",
     "output_type": "stream",
     "text": [
      "C:\\Users\\AR Gadget\\AppData\\Local\\Temp\\ipykernel_2060\\4250889642.py:33: SettingWithCopyWarning: \n",
      "A value is trying to be set on a copy of a slice from a DataFrame.\n",
      "Try using .loc[row_indexer,col_indexer] = value instead\n",
      "\n",
      "See the caveats in the documentation: https://pandas.pydata.org/pandas-docs/stable/user_guide/indexing.html#returning-a-view-versus-a-copy\n",
      "  df['rating_class'] = df['rating_text'].map(rating_mapping)\n"
     ]
    },
    {
     "name": "stdout",
     "output_type": "stream",
     "text": [
      "Shape of the prepared dataset: (6949, 104)\n",
      "Prepared dataset:\n",
      "                                              address   cost        lat  \\\n",
      "0                      371A Pitt Street, CBD, Sydney   50.0 -33.876059   \n",
      "1      Shop 7A, 2 Huntley Street, Alexandria, Sydney   80.0 -33.910999   \n",
      "2   Level G, The Darling at the Star, 80 Pyrmont ...  120.0 -33.867971   \n",
      "3   Sydney Opera House, Bennelong Point, Circular...  270.0 -33.856784   \n",
      "4              20 Campbell Street, Chinatown, Sydney   55.0 -33.879035   \n",
      "\n",
      "                                                link         lng  \\\n",
      "0    https://www.zomato.com/sydney/sydney-madang-cbd  151.207605   \n",
      "1  https://www.zomato.com/sydney/the-grounds-of-a...  151.193793   \n",
      "2        https://www.zomato.com/sydney/sokyo-pyrmont  151.195210   \n",
      "3  https://www.zomato.com/sydney/bennelong-restau...  151.215297   \n",
      "4  https://www.zomato.com/sydney/chat-thai-chinatown  151.206409   \n",
      "\n",
      "          phone  rating_number rating_text  \\\n",
      "0  02 8318 0406            4.0   Very Good   \n",
      "1  02 9699 2225            4.6   Excellent   \n",
      "2  1800 700 700            4.9   Excellent   \n",
      "3  02 9240 8000            4.9   Excellent   \n",
      "4  02 8317 4811            4.5   Excellent   \n",
      "\n",
      "                                 subzone                           title  ...  \\\n",
      "0                                    CBD                   Sydney Madang  ...   \n",
      "1  The Grounds of Alexandria, Alexandria  The Grounds of Alexandria Cafe  ...   \n",
      "2                      The Star, Pyrmont                           Sokyo  ...   \n",
      "3                          Circular Quay            Bennelong Restaurant  ...   \n",
      "4                              Chinatown                       Chat Thai  ...   \n",
      "\n",
      "   n_type  o_type p_type  r_type s_type  t_type  u_type  v_type  y_type  \\\n",
      "0       1       0      0       0      1       0       1       0       0   \n",
      "1       0       0      0       0      0       0       0       0       0   \n",
      "2       1       0      0       0      0       0       0       0       0   \n",
      "3       1       0      0       1      0       0       0       0       0   \n",
      "4       1       0      0       0      1       0       1       0       0   \n",
      "\n",
      "   é_type  \n",
      "0       0  \n",
      "1       1  \n",
      "2       0  \n",
      "3       0  \n",
      "4       0  \n",
      "\n",
      "[5 rows x 104 columns]\n"
     ]
    }
   ],
   "source": [
    "# Loading necessary libraries\n",
    "import pandas as pd\n",
    "from sklearn.preprocessing import LabelEncoder\n",
    "\n",
    "# Loading the dataset\n",
    "df_initial = pd.read_csv('zomato_df_final_data.csv')\n",
    "\n",
    "# Looking into the shape of the dataset\n",
    "print(\"The shape of the dataset:\")\n",
    "df_initial.shape\n",
    "\n",
    "# Removing rows with NA/NaN values\n",
    "df_clean = df_initial.dropna()\n",
    "\n",
    "# Looking into the cleaned dataset\n",
    "print(\"The shape of the cleaned dataset\")\n",
    "df_clean.shape\n",
    "\n",
    "\n",
    "# Saving the cleaned dataset\n",
    "df = df_clean\n",
    "\n",
    "# Creating a mapping for rating_text to classes\n",
    "rating_mapping = {\n",
    "    'Poor': 1,\n",
    "    'Average': 1,\n",
    "    'Good': 2,\n",
    "    'Very Good': 2,\n",
    "    'Excellent': 2\n",
    "}\n",
    "\n",
    "# Mapping the rating_text to a new column 'rating_class'\n",
    "df['rating_class'] = df['rating_text'].map(rating_mapping)\n",
    "\n",
    "# Display of the unique values in the new column\n",
    "print(\"Unique values in rating_class:\", df['rating_class'].unique())\n",
    "\n",
    "# Encoding categorical features(one-hot encoding)\n",
    "df = df.join(df['cuisine'].str.join('|').str.get_dummies(), rsuffix='_cuisine')\n",
    "df = df.join(df['type'].str.join('|').str.get_dummies(), rsuffix='_type')\n",
    "\n",
    "# Dropping the original 'cuisine' and 'type' columns as binary encoding is performed\n",
    "df.drop(['cuisine', 'type'], axis=1, inplace=True)\n",
    "\n",
    "# Display of the shape of the prepared dataset\n",
    "print(\"Shape of the prepared dataset:\", df.shape)\n",
    "\n",
    "# Display the first few rows of the prepared dataset\n",
    "print(\"Prepared dataset:\\n\", df.head())\n",
    "\n",
    "# Save the prepared dataset if needed\n",
    "df.to_csv('zomato_df_prepared.csv', index=False)\n",
    "\n"
   ]
  },
  {
   "cell_type": "markdown",
   "metadata": {},
   "source": [
    "# Part 2: Linear Regression Model"
   ]
  },
  {
   "cell_type": "markdown",
   "metadata": {},
   "source": [
    "model_regression_1: prediction of restaurant rating (rating number) from other features (variables) in the dataset."
   ]
  },
  {
   "cell_type": "code",
   "execution_count": 2,
   "metadata": {},
   "outputs": [
    {
     "name": "stdout",
     "output_type": "stream",
     "text": [
      "Mean Squared Error (MSE): 0.07149712726488254\n"
     ]
    }
   ],
   "source": [
    "# Loading required libraries\n",
    "from sklearn.model_selection import train_test_split\n",
    "from sklearn.linear_model import LinearRegression\n",
    "from sklearn.metrics import mean_squared_error\n",
    "\n",
    "# Removing non-numeric columns that can't be used in regression\n",
    "df_1 = df.select_dtypes(include=['float64', 'int64', 'uint8'])\n",
    "\n",
    "# Defining the feature columns and target variable\n",
    "# Features: all columns except rating_number\n",
    "X = df_1.drop(columns=['rating_number']) \n",
    "# Target Variable: rating_number\n",
    "y = df_1['rating_number']  \n",
    "\n",
    "# Splitting the dataset into training (80%) and testing (20%) sets\n",
    "X_train, X_test, y_train, y_test = train_test_split(X, y, test_size=0.2, random_state=0)\n",
    "\n",
    "# Initializing the Linear Regression model\n",
    "model_regression_1 = LinearRegression()\n",
    "\n",
    "# Training the model on the training set\n",
    "model_regression_1.fit(X_train, y_train)\n",
    "\n",
    "# Making predictions on the test set\n",
    "y_pred = model_regression_1.predict(X_test)\n",
    "\n",
    "# Evaluating & printing the model(MSE) \n",
    "mse = mean_squared_error(y_test, y_pred)  # Mean Squared Error\n",
    "print(f\"Mean Squared Error (MSE): {mse}\")"
   ]
  },
  {
   "cell_type": "markdown",
   "metadata": {},
   "source": [
    "The Mean Squared Error (MSE): 0.07149712726488254 suggest low squared error. \n",
    "It means there are relatively small number of error and the model performance is good."
   ]
  },
  {
   "cell_type": "markdown",
   "metadata": {},
   "source": [
    "model_regression_2: Gradient Descent as the optimisation function"
   ]
  },
  {
   "cell_type": "code",
   "execution_count": 3,
   "metadata": {},
   "outputs": [
    {
     "name": "stdout",
     "output_type": "stream",
     "text": [
      "Mean Squared Error (MSE) using Gradient Descent: 2.4429505722639595e+27\n"
     ]
    }
   ],
   "source": [
    "# Loading required libraries\n",
    "from sklearn.linear_model import SGDRegressor\n",
    "from sklearn.metrics import mean_squared_error\n",
    "\n",
    "# Initializing the SGDRegressor \n",
    "model_regression_2 = SGDRegressor(max_iter=1000, tol=1e-3, random_state=0)\n",
    "\n",
    "# Training the model on the training set\n",
    "model_regression_2.fit(X_train, y_train)\n",
    "\n",
    "# Predicting on the test set\n",
    "y_pred_gd = model_regression_2.predict(X_test)\n",
    "\n",
    "# Calculating and printing the Mean Squared Error (MSE) for the test set\n",
    "mse_gd = mean_squared_error(y_test, y_pred_gd)\n",
    "print(f\"Mean Squared Error (MSE) using Gradient Descent: {mse_gd}\")\n"
   ]
  },
  {
   "cell_type": "markdown",
   "metadata": {},
   "source": [
    "High MSE suggest that convergance didn't happen properly, possibly because scales of the features or outliers in features affecting optimisation."
   ]
  },
  {
   "cell_type": "markdown",
   "metadata": {},
   "source": [
    "# Part 3: Binary Classification by Building a Logistic Regression Model"
   ]
  },
  {
   "cell_type": "markdown",
   "metadata": {},
   "source": [
    "Binary Classification of Text Rating"
   ]
  },
  {
   "cell_type": "code",
   "execution_count": 4,
   "metadata": {},
   "outputs": [
    {
     "name": "stdout",
     "output_type": "stream",
     "text": [
      "0    2\n",
      "1    2\n",
      "2    2\n",
      "3    2\n",
      "4    2\n",
      "Name: rating_class, dtype: int64\n",
      "Accuracy: 0.95\n",
      "Confusion Matrix:\n",
      "[[883  29]\n",
      " [ 37 441]]\n",
      "Classification Report:\n",
      "              precision    recall  f1-score   support\n",
      "\n",
      "           1       0.96      0.97      0.96       912\n",
      "           2       0.94      0.92      0.93       478\n",
      "\n",
      "    accuracy                           0.95      1390\n",
      "   macro avg       0.95      0.95      0.95      1390\n",
      "weighted avg       0.95      0.95      0.95      1390\n",
      "\n"
     ]
    },
    {
     "name": "stderr",
     "output_type": "stream",
     "text": [
      "c:\\Users\\AR Gadget\\AppData\\Local\\Programs\\Python\\Python312\\Lib\\site-packages\\sklearn\\linear_model\\_logistic.py:469: ConvergenceWarning: lbfgs failed to converge (status=1):\n",
      "STOP: TOTAL NO. of ITERATIONS REACHED LIMIT.\n",
      "\n",
      "Increase the number of iterations (max_iter) or scale the data as shown in:\n",
      "    https://scikit-learn.org/stable/modules/preprocessing.html\n",
      "Please also refer to the documentation for alternative solver options:\n",
      "    https://scikit-learn.org/stable/modules/linear_model.html#logistic-regression\n",
      "  n_iter_i = _check_optimize_result(\n"
     ]
    }
   ],
   "source": [
    "# Loading required libraries\n",
    "from sklearn.linear_model import LogisticRegression\n",
    "from sklearn.metrics import accuracy_score, confusion_matrix, classification_report\n",
    "\n",
    "# The binary Classification is already made and saved in rating_class column\n",
    "print(df_1['rating_class'].head())\n",
    "\n",
    "# Defining features (X) and target variable (y)\n",
    "X = df_1.drop(columns=['rating_class'])  \n",
    "y = df_1['rating_class']  \n",
    "\n",
    "# Splitting the data into 80% training and 20% test data\n",
    "X_train, X_test, y_train, y_test = train_test_split(X, y, test_size=0.2, random_state=0)\n",
    "\n",
    "# Initialising and training of the logistic regression model\n",
    "model_classification_3 = LogisticRegression()\n",
    "\n",
    "# Training the model\n",
    "model_classification_3.fit(X_train, y_train)\n",
    "\n",
    "# Making predictions on the test set\n",
    "y_pred = model_classification_3.predict(X_test)\n",
    "\n",
    "# Model Evaluation\n",
    "# Accuracy score\n",
    "accuracy = accuracy_score(y_test, y_pred)\n",
    "print(f\"Accuracy: {accuracy:.2f}\")\n",
    "\n",
    "# Confusion Matrix\n",
    "conf_matrix = confusion_matrix(y_test, y_pred)\n",
    "print(\"Confusion Matrix:\")\n",
    "print(conf_matrix)\n",
    "\n",
    "# Classification report (precision, recall, F1-score)\n",
    "class_report = classification_report(y_test, y_pred)\n",
    "print(\"Classification Report:\")\n",
    "print(class_report)\n",
    "\n",
    "\n"
   ]
  },
  {
   "cell_type": "markdown",
   "metadata": {},
   "source": [
    "# Evaluation Report:\n",
    "The accuracy of 0.95 tells that the model predicted the rating_class accurate 95% of time.\n",
    "\n",
    "# Confusion Matrix:\n",
    "[[883  29]\n",
    "[ 37 441]]\n",
    "Confusion matrix indicated that out of 912 obs for class 1, 883 prediction were correctly classified and 29 samples were misclassified.\n",
    "Confusion matrix indicated that out of 478 obs for class 1, 441 prediction were correctly classified and 37 samples were classified incorrectly.\n",
    "\n",
    "# Classification Report:\n",
    "\n",
    "*Class 1 (912 samples):\n",
    "Precision (0.96): Out of all the instances predicted as class 1, 96% were actually class 1.\n",
    "Recall (0.97): The model correctly identified 97% of all actual class 1 instances.\n",
    "F1-Score (0.96): Strong balance between precision and recall.\n",
    "\n",
    "*Class 2 (478 samples):\n",
    "Precision (0.94): Out of all the instances predicted as class 2, 94% were actually class 2.\n",
    "Recall (0.92): The model correctly identified 92% of all actual class 2 instances.\n",
    "F1-Score (0.93): Strong balance between precision and recall.\n",
    "\n",
    "Overall, The model is performing very well with high accuracy (0.95) and strong precision, recall, and F1-scores  for both instances. Also the performance of class 1 is just a touch better than class 2. \n",
    "\n"
   ]
  },
  {
   "cell_type": "markdown",
   "metadata": {},
   "source": [
    "# Binary Classification with Decision Tree"
   ]
  },
  {
   "cell_type": "code",
   "execution_count": 5,
   "metadata": {},
   "outputs": [
    {
     "name": "stdout",
     "output_type": "stream",
     "text": [
      "Accuracy: 1.00\n",
      "Confusion Matrix:\n",
      "[[923   0]\n",
      " [  0 467]]\n",
      "Classification Report:\n",
      "              precision    recall  f1-score   support\n",
      "\n",
      "           1       1.00      1.00      1.00       923\n",
      "           2       1.00      1.00      1.00       467\n",
      "\n",
      "    accuracy                           1.00      1390\n",
      "   macro avg       1.00      1.00      1.00      1390\n",
      "weighted avg       1.00      1.00      1.00      1390\n",
      "\n"
     ]
    }
   ],
   "source": [
    "# Loading Necessary Libraries\n",
    "from sklearn.tree import DecisionTreeClassifier\n",
    "\n",
    "# Splitting the data into feature and target\n",
    "X = df_1.drop(columns=['rating_class'])\n",
    "y = df_1[\"rating_class\"]\n",
    "\n",
    "# Splitting the data into training(80%) and test(20%) sets\n",
    "X_train, X_test, y_train, y_test = train_test_split(X, y, test_size=0.2, random_state= 40)\n",
    "\n",
    "# Building and Training the Decision Tree Classifier\n",
    "# Initialising the Decision Tree Classifier\n",
    "model_classification_4 = DecisionTreeClassifier(random_state=40)\n",
    "\n",
    "# Training the model\n",
    "model_classification_4.fit(X_train, y_train)\n",
    "\n",
    "# Predicting on the test data\n",
    "y_pred = model_classification_4.predict(X_test)\n",
    "\n",
    "# Model Evaluation\n",
    "# Accuracy\n",
    "accuracy = accuracy_score(y_test, y_pred)\n",
    "print(f\"Accuracy: {accuracy:.2f}\")\n",
    "\n",
    "# Confusion Matrix\n",
    "conf_matrix = confusion_matrix(y_test, y_pred)\n",
    "print(\"Confusion Matrix:\")\n",
    "print(conf_matrix)\n",
    "\n",
    "# Classification Report (Precision, Recall, F1-Score)\n",
    "class_report = classification_report(y_test, y_pred)\n",
    "print(\"Classification Report:\")\n",
    "print(class_report)"
   ]
  },
  {
   "cell_type": "markdown",
   "metadata": {},
   "source": [
    "The decsion tree classifier shows 100% accuracy"
   ]
  }
 ],
 "metadata": {
  "kernelspec": {
   "display_name": "Python 3",
   "language": "python",
   "name": "python3"
  },
  "language_info": {
   "codemirror_mode": {
    "name": "ipython",
    "version": 3
   },
   "file_extension": ".py",
   "mimetype": "text/x-python",
   "name": "python",
   "nbconvert_exporter": "python",
   "pygments_lexer": "ipython3",
   "version": "3.12.0"
  }
 },
 "nbformat": 4,
 "nbformat_minor": 2
}
